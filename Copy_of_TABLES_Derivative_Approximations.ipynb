{
  "nbformat": 4,
  "nbformat_minor": 0,
  "metadata": {
    "colab": {
      "provenance": [],
      "include_colab_link": true
    },
    "kernelspec": {
      "name": "python3",
      "display_name": "Python 3"
    },
    "language_info": {
      "name": "python"
    }
  },
  "cells": [
    {
      "cell_type": "markdown",
      "metadata": {
        "id": "view-in-github",
        "colab_type": "text"
      },
      "source": [
        "<a href=\"https://colab.research.google.com/github/apal96/Bisection/blob/main/Copy_of_TABLES_Derivative_Approximations.ipynb\" target=\"_parent\"><img src=\"https://colab.research.google.com/assets/colab-badge.svg\" alt=\"Open In Colab\"/></a>"
      ]
    },
    {
      "cell_type": "markdown",
      "source": [
        "$$\\text{Approximating derivatives with Python}$$"
      ],
      "metadata": {
        "id": "Vh7RolXyehcu"
      }
    },
    {
      "cell_type": "markdown",
      "source": [
        "We are going to build a few Python functions which take as input\n",
        "\n",
        "*   a function $f$,\n",
        "*   the endpoints of an interval $[a, b]$, and\n",
        "*   a natural number $N$ which tells us how many subintervals to divide $[a, b]$ into.\n",
        "\n",
        "Our Python function will return a list with $N$ values which approximate $f'$.\n",
        "\n",
        "Below you can see a block of code to define the *forward difference* function and then another block of code to test it out. Once you have run and read the code carefully, move on to the first exercise.  \n",
        "\n"
      ],
      "metadata": {
        "id": "_UXY321PbpES"
      }
    },
    {
      "cell_type": "code",
      "source": [
        "import numpy as np\n",
        "import matplotlib.pyplot as plt"
      ],
      "metadata": {
        "id": "Iz7I2nese8lA"
      },
      "execution_count": null,
      "outputs": []
    },
    {
      "cell_type": "code",
      "source": [
        "def my_forward_diff(f,a,b,N):\n",
        "    x = np.linspace(a,b,N+1)\n",
        "    h = x[1] - x[0]\n",
        "    df_f = []\n",
        "    for j in range(0,len(x)-1):\n",
        "        df.append( (f(x[j+1]) - f(x[j])) / h )\n",
        "    return df_f"
      ],
      "metadata": {
        "id": "uKj1ZxpOa5Sl"
      },
      "execution_count": null,
      "outputs": []
    },
    {
      "cell_type": "code",
      "source": [
        "def f(x):\n",
        "  return np.cos(x)\n",
        "def f_prime_exact(x):\n",
        "  return -np.sin(x)\n",
        "\n",
        "a = 0\n",
        "b = 3*np.pi\n",
        "N = 20\n",
        "x = np.linspace(a,b,N+1)\n",
        "df_f = my_forward_diff(f,a,b,N)\n",
        "\n",
        "### The lines below plot the exact derivative and our approximation.\n",
        "plt.plot(x,f_prime_exact(x),'k')\n",
        "plt.plot(x[0:-1],df_f, 'r-.')\n",
        "plt.legend(['exact first deriv',\n",
        "            'forward approx first deriv',\n",
        "            ])\n",
        "plt.show()"
      ],
      "metadata": {
        "id": "Y5vGOvbAeECW"
      },
      "execution_count": null,
      "outputs": []
    },
    {
      "cell_type": "markdown",
      "source": [
        "**Exercise 1.** Next you are going to write code for the centered difference method. Your code should use the formulas we have derived and should not rely on the forward difference function. Feel free to use what you may already have from homework 4."
      ],
      "metadata": {
        "id": "Pv4cHSEpgT9W"
      }
    },
    {
      "cell_type": "code",
      "source": [
        "# INPUTS:\n",
        "  # f: a function whose derivative you want to approximate\n",
        "  # a and b: two real numbers that define the domain on which we will approximate f'.\n",
        "  # N: a natural number which tells us how many subintervals to divide [a,b] into.\n",
        "# RETURN:\n",
        "  # df: a list whose entries approximate the derivative of f'\n",
        "  #     using centered difference\n",
        "\n",
        "def my_centered_diff(f,a,b,N):\n",
        "    # YOUR CODE GOES HERE\n",
        "    #\n",
        "    return df_c"
      ],
      "metadata": {
        "id": "bHCendmeioPi"
      },
      "execution_count": null,
      "outputs": []
    },
    {
      "cell_type": "markdown",
      "source": [
        "**Exercise 2:** Next you will test out centered difference functions and plot the results.\n",
        "\n",
        "Write code to test out your centered difference function on the example we used for the forward difference (above). Then write code to produce a plot that includes (1) the exact derivative, (2) the forwards difference approximation, and (3) the centered difference approximation."
      ],
      "metadata": {
        "id": "vjFwUHpcjK-d"
      }
    },
    {
      "cell_type": "code",
      "source": [
        "# Here are the inputs for your functions.\n",
        "def f(x):\n",
        "  return np.cos(x)\n",
        "def f_prime_exact(x):\n",
        "  return -np.sin(x)\n",
        "\n",
        "a = 0\n",
        "b = 3*np.pi\n",
        "N = 20\n",
        "\n",
        "##############################\n",
        "# YOUR CODE TO TEST/USE YOUR CENTERED DIFFERENCE FUNCTION GOES HERE.\n",
        "##############################\n",
        "\n",
        "##############################\n",
        "# YOUR CODE TO PLOT THE EXACT, FORWARD, AND CENTERED\n",
        "# DERIVATIVES GOES HERE.\n",
        "##############################\n",
        "\n"
      ],
      "metadata": {
        "id": "QvpN5tabj1QP"
      },
      "execution_count": null,
      "outputs": []
    },
    {
      "cell_type": "markdown",
      "source": [
        "**Exercise 3 TABLES:** Now we need to think about error.\n",
        "\n",
        "**TABLE:** Produce tables that shows the quantities included in the sample tables below. You will have one table for the forward difference method (FD) and another table for the centered difference method (CD). (We will skip the backwards method since it is essentially the same as the forward method).\n",
        "\n",
        "You will use the function $g(x) = \\sin(x)(1-x)$ and be approximating the value of $g'(1)$, but feel free to experiment with other functions.\n"
      ],
      "metadata": {
        "id": "WYj9agX-MsgK"
      }
    },
    {
      "cell_type": "markdown",
      "source": [
        "Fill in the missing pieces of code to produce tables that include the components shown below. You will have one table for the forward difference method (abbreviated FD), and another for the centered difference method (abbreviated CD).\n",
        "### Forward Difference Table\n",
        "\\begin{array}{|c|c|c|c|c|}\n",
        "\\hline\n",
        "h & \\text{Approx. of}~g'(1) \\text{ with FD}  & \\text{Exact Error} & \\text{Absolute}~\\%~\\text{Error with FD}  & \\text{Error reduction factor}\\\\\n",
        "\\hline \\hline\n",
        "0.5 &  -0.9974949866040543 & 0.156 & 18.54 & None\\\\ \\hline\n",
        "\\hline \\hline\n",
        "0.25 & -0.9489846193555866 & 0.108 & 12.78 & 1.4512020029138704\\\\ \\hline\n",
        "\\end{array}\n",
        "\n",
        "### Centered Difference Table\n",
        "\\begin{array}{|c|c|c|c|c|}\n",
        "\\hline\n",
        "h & \\text{Approx. of}~g'(1) \\text{ with CD} & \\text{Exact Error} & \\text{Absolute}~\\%~\\text{Error with CD} &\\text{Error reduction factor} \\\\\n",
        "\\hline \\hline\n",
        "0.5 &   -0.7384602626041287 & 0.103 & 12.24 & None \\\\ \\hline\n",
        "\\hline \\hline\n",
        "0.25 &  -0.8153116896894603 & 0.026 & 3.11 & 3.9378248434213114\\\\ \\hline\n",
        "\\end{array}"
      ],
      "metadata": {
        "id": "-eS1BE5oUlPQ"
      }
    },
    {
      "cell_type": "code",
      "source": [
        "def g(x):\n",
        "  return np.sin(x)-x*np.sin(x)\n",
        "def g_prime(x):\n",
        "  return np.cos(x)-x*np.cos(x)-np.sin(x)\n",
        "\n",
        "# Create a list H with values 1/2, 1/4, 1/8, ...1/1024.\n",
        "# H = FILL THIS IN\n",
        "\n",
        "x0 = 1\n",
        "\n",
        "AbsPctErrorFD = [];\n",
        "\n",
        "print('The exact value we are looking for is', g_prime(1))\n",
        "for h in H:\n",
        "  ## Fill in the missing pieces. What should go here?\n",
        "  # approxF = (g(??+h)-g(??))/h\n",
        "  exact  = g_prime(x0)\n",
        "  AbsPctErrorFD.append(100*np.abs((approxF-exact)/exact));\n",
        "  if h==H[0]:\n",
        "    # error = FILL THIS IN\n",
        "    print(\"h=\",h,\"\\t \\t Approx. of g'(1) with FD =\",approxF,\"\\t Exact Error=\", error, \"\\t Absolute Pct Error=\", AbsPctErrorFD[-1])\n",
        "  else:\n",
        "    # error = FILL THIS IN\n",
        "    # err_reduction_factor = AbsPctErrorFD[??]/AbsPctErrorFD[-1];\n",
        "    print(\"h=\",h,\"\\t Approx. of g'(1) =\",approxF, \"\\t Exact Error=\", error, \"\\t Absolute Pct Error=\", AbsPctErrorFD[-1], \"\\t Error Red. Factor=\", err_reduction_factor)"
      ],
      "metadata": {
        "id": "LvC5Ngl4VtiI"
      },
      "execution_count": null,
      "outputs": []
    },
    {
      "cell_type": "code",
      "source": [
        "# ADD code to make a table for CD (centered differences)\n",
        "#\n",
        "#\n",
        "#\n"
      ],
      "metadata": {
        "id": "XUxFHsnNPlqU"
      },
      "execution_count": null,
      "outputs": []
    }
  ]
}